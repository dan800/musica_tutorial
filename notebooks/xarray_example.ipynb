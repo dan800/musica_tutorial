{
 "cells": [
  {
   "cell_type": "code",
   "execution_count": 12,
   "metadata": {},
   "outputs": [],
   "source": [
    "import xarray as xr"
   ]
  },
  {
   "cell_type": "code",
   "execution_count": 13,
   "metadata": {},
   "outputs": [],
   "source": [
    "File =  \"/nobackup/pygjc/WACCM_UK_tutorial/Pre_industrial.nc\" #file name\n",
    "PI_time_avg = xr.open_dataset(File,decode_times=False) #open the file and decode time as false"
   ]
  },
  {
   "cell_type": "code",
   "execution_count": 14,
   "metadata": {},
   "outputs": [],
   "source": [
    "File =  \"/nobackup/pygjc/WACCM_UK_tutorial/PI_monthly_means.nc\" #file name\n",
    "PI_monthly_mean = xr.open_dataset(File,decode_times=False) #open the file and decode time as false"
   ]
  },
  {
   "cell_type": "code",
   "execution_count": 15,
   "metadata": {},
   "outputs": [
    {
     "name": "stdout",
     "output_type": "stream",
     "text": [
      "Frozen(SortedKeysDict({'lat': 96, 'lon': 144, 'zlon': 1, 'nbnd': 2, 'lev': 70, 'ilev': 71, 'time': 1}))\n"
     ]
    }
   ],
   "source": [
    "#print dimensions\n",
    "print(PI_time_avg.dims)"
   ]
  },
  {
   "cell_type": "code",
   "execution_count": 16,
   "metadata": {},
   "outputs": [
    {
     "name": "stdout",
     "output_type": "stream",
     "text": [
      "Frozen(SortedKeysDict({'lat': 96, 'lon': 144, 'zlon': 1, 'nbnd': 2, 'lev': 70, 'ilev': 71, 'time': 12}))\n"
     ]
    }
   ],
   "source": [
    "#print dimensions\n",
    "print(PI_monthly_mean.dims)"
   ]
  },
  {
   "cell_type": "code",
   "execution_count": 27,
   "metadata": {},
   "outputs": [
    {
     "name": "stdout",
     "output_type": "stream",
     "text": [
      "<xarray.Dataset>\n",
      "Dimensions:                  (ilev: 71, lat: 96, lev: 70, lon: 144, nbnd: 2, time: 12, zlon: 1)\n",
      "Coordinates:\n",
      "  * lat                      (lat) float64 -90.0 -88.11 -86.21 ... 88.11 90.0\n",
      "  * lon                      (lon) float64 0.0 2.5 5.0 7.5 ... 352.5 355.0 357.5\n",
      "  * zlon                     (zlon) float64 0.0\n",
      "  * lev                      (lev) float64 5.96e-06 9.827e-06 ... 976.3 992.6\n",
      "  * ilev                     (ilev) float64 4.5e-06 7.42e-06 ... 985.1 1e+03\n",
      "  * time                     (time) float64 4.776e+03 4.804e+03 ... 5.11e+03\n",
      "Dimensions without coordinates: nbnd\n",
      "Data variables:\n",
      "    gw                       (lat) float64 ...\n",
      "    zlon_bnds                (zlon, nbnd) float64 ...\n",
      "    hyam                     (lev) float64 ...\n",
      "    hybm                     (lev) float64 ...\n",
      "    P0                       float64 ...\n",
      "    hyai                     (ilev) float64 ...\n",
      "    hybi                     (ilev) float64 ...\n",
      "    date                     (time) int32 ...\n",
      "    datesec                  (time) int32 ...\n",
      "    time_bnds                (time, nbnd) float64 ...\n",
      "    date_written             (time) |S8 ...\n",
      "    time_written             (time) |S8 ...\n",
      "    ndbase                   int32 ...\n",
      "    nsbase                   int32 ...\n",
      "    nbdate                   int32 ...\n",
      "    nbsec                    int32 ...\n",
      "    mdt                      int32 ...\n",
      "    ndcur                    (time) int32 ...\n",
      "    nscur                    (time) int32 ...\n",
      "    co2vmr                   (time) float64 ...\n",
      "    ch4vmr                   (time) float64 ...\n",
      "    n2ovmr                   (time) float64 ...\n",
      "    f11vmr                   (time) float64 ...\n",
      "    f12vmr                   (time) float64 ...\n",
      "    sol_tsi                  (time) float64 ...\n",
      "    f107                     (time) float64 ...\n",
      "    f107a                    (time) float64 ...\n",
      "    f107p                    (time) float64 ...\n",
      "    kp                       (time) float64 ...\n",
      "    ap                       (time) float64 ...\n",
      "    nsteph                   (time) int32 ...\n",
      "    ADRAIN                   (time, lev, lat, lon) float32 ...\n",
      "    ADSNOW                   (time, lev, lat, lon) float32 ...\n",
      "    AEROD_v                  (time, lat, lon) float32 ...\n",
      "    ANRAIN                   (time, lev, lat, lon) float32 ...\n",
      "    ANSNOW                   (time, lev, lat, lon) float32 ...\n",
      "    AOA1                     (time, lev, lat, lon) float32 ...\n",
      "    AOA1SRC                  (time, lev, lat, lon) float32 ...\n",
      "    AOA2                     (time, lev, lat, lon) float32 ...\n",
      "    AOA2SRC                  (time, lev, lat, lon) float32 ...\n",
      "    AODDUST                  (time, lat, lon) float32 ...\n",
      "    AODDUST1                 (time, lat, lon) float32 ...\n",
      "    AODDUST3                 (time, lat, lon) float32 ...\n",
      "    AODVIS                   (time, lat, lon) float32 ...\n",
      "    AQRAIN                   (time, lev, lat, lon) float32 ...\n",
      "    AQSNOW                   (time, lev, lat, lon) float32 ...\n",
      "    AREI                     (time, lev, lat, lon) float32 ...\n",
      "    AREL                     (time, lev, lat, lon) float32 ...\n",
      "    AWNC                     (time, lev, lat, lon) float32 ...\n",
      "    AWNI                     (time, lev, lat, lon) float32 ...\n",
      "    BTAUE                    (time, ilev, lat, lon) float32 ...\n",
      "    BTAUN                    (time, ilev, lat, lon) float32 ...\n",
      "    BTAUNET                  (time, ilev, lat, lon) float32 ...\n",
      "    BTAUS                    (time, ilev, lat, lon) float32 ...\n",
      "    BTAUW                    (time, ilev, lat, lon) float32 ...\n",
      "    BTTGWSPEC                (time, lev, lat, lon) float32 ...\n",
      "    BUTGWSPEC                (time, lev, lat, lon) float32 ...\n",
      "    BVTGWSPEC                (time, lev, lat, lon) float32 ...\n",
      "    CCN3                     (time, lev, lat, lon) float32 ...\n",
      "    CDNUMC                   (time, lat, lon) float32 ...\n",
      "    CFC11                    (time, lev, lat, lon) float32 ...\n",
      "    CFC11_CHML               (time, lev, lat, lon) float32 ...\n",
      "    CFC12                    (time, lev, lat, lon) float32 ...\n",
      "    CFC12_CHML               (time, lev, lat, lon) float32 ...\n",
      "    CH4                      (time, lev, lat, lon) float32 ...\n",
      "    CH4_CHML                 (time, lev, lat, lon) float32 ...\n",
      "    CLDHGH                   (time, lat, lon) float32 ...\n",
      "    CLDICE                   (time, lev, lat, lon) float32 ...\n",
      "    CLDLIQ                   (time, lev, lat, lon) float32 ...\n",
      "    CLDLOW                   (time, lat, lon) float32 ...\n",
      "    CLDMED                   (time, lat, lon) float32 ...\n",
      "    CLDTOT                   (time, lat, lon) float32 ...\n",
      "    CLOUD                    (time, lev, lat, lon) float32 ...\n",
      "    DCQ                      (time, lev, lat, lon) float32 ...\n",
      "    DTCOND                   (time, lev, lat, lon) float32 ...\n",
      "    DTCORE                   (time, lev, lat, lon) float32 ...\n",
      "    DTV                      (time, lev, lat, lon) float32 ...\n",
      "    DUV                      (time, lev, lat, lon) float32 ...\n",
      "    DVV                      (time, lev, lat, lon) float32 ...\n",
      "    EKGW                     (time, ilev, lat, lon) float32 ...\n",
      "    EPOTEN                   (time, lat, lon) float32 ...\n",
      "    FICE                     (time, lev, lat, lon) float32 ...\n",
      "    FLDS                     (time, lat, lon) float32 ...\n",
      "    FLNS                     (time, lat, lon) float32 ...\n",
      "    FLNSC                    (time, lat, lon) float32 ...\n",
      "    FLNT                     (time, lat, lon) float32 ...\n",
      "    FLNTC                    (time, lat, lon) float32 ...\n",
      "    FLNTCLR                  (time, lat, lon) float32 ...\n",
      "    FLUT                     (time, lat, lon) float32 ...\n",
      "    FLUTC                    (time, lat, lon) float32 ...\n",
      "    FREQCLR                  (time, lat, lon) float32 ...\n",
      "    FREQI                    (time, lev, lat, lon) float32 ...\n",
      "    FREQL                    (time, lev, lat, lon) float32 ...\n",
      "    FREQR                    (time, lev, lat, lon) float32 ...\n",
      "    FREQS                    (time, lev, lat, lon) float32 ...\n",
      "    FRONTGF                  (time, lev, lat, lon) float32 ...\n",
      "    FRONTGFA                 (time, lev, lat, lon) float32 ...\n",
      "    FSDS                     (time, lat, lon) float32 ...\n",
      "    FSDSC                    (time, lat, lon) float32 ...\n",
      "    FSNS                     (time, lat, lon) float32 ...\n",
      "    FSNSC                    (time, lat, lon) float32 ...\n",
      "    FSNT                     (time, lat, lon) float32 ...\n",
      "    FSNTC                    (time, lat, lon) float32 ...\n",
      "    FSNTOA                   (time, lat, lon) float32 ...\n",
      "    FSNTOAC                  (time, lat, lon) float32 ...\n",
      "    FSUTOA                   (time, lat, lon) float32 ...\n",
      "    H                        (time, lev, lat, lon) float32 ...\n",
      "    H2                       (time, lev, lat, lon) float32 ...\n",
      "    H2O                      (time, lev, lat, lon) float32 ...\n",
      "    HDEPTH                   (time, lat, lon) float32 ...\n",
      "    HO2                      (time, lev, lat, lon) float32 ...\n",
      "    HORZ                     (time, lev, lat, lon) float32 ...\n",
      "    HORZSRC                  (time, lev, lat, lon) float32 ...\n",
      "    ICEFRAC                  (time, lat, lon) float32 ...\n",
      "    ICIMR                    (time, lev, lat, lon) float32 ...\n",
      "    ICWMR                    (time, lev, lat, lon) float32 ...\n",
      "    IWC                      (time, lev, lat, lon) float32 ...\n",
      "    LANDFRAC                 (time, lat, lon) float32 ...\n",
      "    LHFLX                    (time, lat, lon) float32 ...\n",
      "    LNO_COL_PROD             (time, lat, lon) float32 ...\n",
      "    LWCF                     (time, lat, lon) float32 ...\n",
      "    MAXQ0                    (time, lat, lon) float32 ...\n",
      "    MSKtem                   (time, lat, lon) float32 ...\n",
      "    N2O                      (time, lev, lat, lon) float32 ...\n",
      "    N2O_CHML                 (time, lev, lat, lon) float32 ...\n",
      "    NETDT                    (time, lev, lat, lon) float32 ...\n",
      "    NO2_CLXF                 (time, lat, lon) float32 ...\n",
      "    NO2_CMXF                 (time, lat, lon) float32 ...\n",
      "    NO3                      (time, lev, lat, lon) float32 ...\n",
      "    NUMICE                   (time, lev, lat, lon) float32 ...\n",
      "    NUMLIQ                   (time, lev, lat, lon) float32 ...\n",
      "    NUMRAI                   (time, lev, lat, lon) float32 ...\n",
      "    NUMSNO                   (time, lev, lat, lon) float32 ...\n",
      "    O3                       (time, lev, lat, lon) float32 ...\n",
      "    OCNFRAC                  (time, lat, lon) float32 ...\n",
      "    OH                       (time, lev, lat, lon) float32 ...\n",
      "    OMEGA                    (time, lev, lat, lon) float32 ...\n",
      "    OMEGAT                   (time, lev, lat, lon) float32 ...\n",
      "    PBLH                     (time, lat, lon) float32 ...\n",
      "    PHIS                     (time, lat, lon) float32 ...\n",
      "    PRECC                    (time, lat, lon) float32 ...\n",
      "    PRECL                    (time, lat, lon) float32 ...\n",
      "    PRECSC                   (time, lat, lon) float32 ...\n",
      "    PRECSL                   (time, lat, lon) float32 ...\n",
      "    PS                       (time, lat, lon) float32 ...\n",
      "    PSL                      (time, lat, lon) float32 ...\n",
      "    PS_12_COS                (time, lat, lon) float32 ...\n",
      "    PS_12_SIN                (time, lat, lon) float32 ...\n",
      "    PS_24_COS                (time, lat, lon) float32 ...\n",
      "    PS_24_SIN                (time, lat, lon) float32 ...\n",
      "    Q                        (time, lev, lat, lon) float32 ...\n",
      "    QBOTEND                  (time, lev, lat, lon) float32 ...\n",
      "    QBO_U0                   (time, lev, lat, lon) float32 ...\n",
      "    QCO2                     (time, lev, lat, lon) float32 ...\n",
      "    QFLX                     (time, lat, lon) float32 ...\n",
      "    QHC2S                    (time, lev, lat, lon) float32 ...\n",
      "    QJOULE                   (time, lev, lat, lon) float32 ...\n",
      "    QNO                      (time, lev, lat, lon) float32 ...\n",
      "    QO3                      (time, lev, lat, lon) float32 ...\n",
      "    QO3P                     (time, lev, lat, lon) float32 ...\n",
      "    QREFHT                   (time, lat, lon) float32 ...\n",
      "    QRL                      (time, lev, lat, lon) float32 ...\n",
      "    QRLNLTE                  (time, lev, lat, lon) float32 ...\n",
      "    QRL_TOT                  (time, lev, lat, lon) float32 ...\n",
      "    QRS                      (time, lev, lat, lon) float32 ...\n",
      "    QRS_TOT                  (time, lev, lat, lon) float32 ...\n",
      "    RAINQM                   (time, lev, lat, lon) float32 ...\n",
      "    RELHUM                   (time, lev, lat, lon) float32 ...\n",
      "    SFNO                     (time, lat, lon) float32 ...\n",
      "    SHFLX                    (time, lat, lon) float32 ...\n",
      "    SNOWHICE                 (time, lat, lon) float32 ...\n",
      "    SNOWHLND                 (time, lat, lon) float32 ...\n",
      "    SNOWQM                   (time, lev, lat, lon) float32 ...\n",
      "    SOLIN                    (time, lat, lon) float32 ...\n",
      "    SWCF                     (time, lat, lon) float32 ...\n",
      "    T                        (time, lev, lat, lon) float32 ...\n",
      "    TAUARDGBETAX             (time, ilev, lat, lon) float32 ...\n",
      "    TAUARDGBETAY             (time, ilev, lat, lon) float32 ...\n",
      "    TAUBLJX                  (time, lat, lon) float32 ...\n",
      "    TAUBLJY                  (time, lat, lon) float32 ...\n",
      "    TAUE                     (time, ilev, lat, lon) float32 ...\n",
      "    TAUGWX                   (time, lat, lon) float32 ...\n",
      "    TAUGWY                   (time, lat, lon) float32 ...\n",
      "    TAUN                     (time, ilev, lat, lon) float32 ...\n",
      "    TAUNET                   (time, ilev, lat, lon) float32 ...\n",
      "    TAUS                     (time, ilev, lat, lon) float32 ...\n",
      "    TAUW                     (time, ilev, lat, lon) float32 ...\n",
      "    TAUX                     (time, lat, lon) float32 ...\n",
      "    TAUY                     (time, lat, lon) float32 ...\n",
      "    TGCLDCWP                 (time, lat, lon) float32 ...\n",
      "    TGCLDIWP                 (time, lat, lon) float32 ...\n",
      "    TGCLDLWP                 (time, lat, lon) float32 ...\n",
      "    TH                       (time, ilev, lat, lon) float32 ...\n",
      "    TMQ                      (time, lat, lon) float32 ...\n",
      "    TREFHT                   (time, lat, lon) float32 ...\n",
      "    TS                       (time, lat, lon) float32 ...\n",
      "    TSMN                     (time, lat, lon) float32 ...\n",
      "    TSMX                     (time, lat, lon) float32 ...\n",
      "    TTGWSPEC                 (time, lev, lat, lon) float32 ...\n",
      "    TTPXMLC                  (time, lat, lon) float32 ...\n",
      "    T_12_COS                 (time, lev, lat, lon) float32 ...\n",
      "    T_12_SIN                 (time, lev, lat, lon) float32 ...\n",
      "    T_24_COS                 (time, lev, lat, lon) float32 ...\n",
      "    T_24_SIN                 (time, lev, lat, lon) float32 ...\n",
      "    U                        (time, lev, lat, lon) float32 ...\n",
      "    U10                      (time, lat, lon) float32 ...\n",
      "    UTGWORO                  (time, lev, lat, lon) float32 ...\n",
      "    UTGWSPEC                 (time, lev, lat, lon) float32 ...\n",
      "    UU                       (time, lev, lat, lon) float32 ...\n",
      "    UVzm                     (time, ilev, lat, zlon) float32 ...\n",
      "    UWzm                     (time, ilev, lat, zlon) float32 ...\n",
      "    U_12_COS                 (time, lev, lat, lon) float32 ...\n",
      "    U_12_SIN                 (time, lev, lat, lon) float32 ...\n",
      "    U_24_COS                 (time, lev, lat, lon) float32 ...\n",
      "    U_24_SIN                 (time, lev, lat, lon) float32 ...\n",
      "    V                        (time, lev, lat, lon) float32 ...\n",
      "    VD01                     (time, lev, lat, lon) float32 ...\n",
      "    VERT                     (time, lev, lat, lon) float32 ...\n",
      "    VERTSRC                  (time, lev, lat, lon) float32 ...\n",
      "    VQ                       (time, lev, lat, lon) float32 ...\n",
      "    VT                       (time, lev, lat, lon) float32 ...\n",
      "    VTGWORO                  (time, lev, lat, lon) float32 ...\n",
      "    VTGWSPEC                 (time, lev, lat, lon) float32 ...\n",
      "    VTHzm                    (time, ilev, lat, zlon) float32 ...\n",
      "    VU                       (time, lev, lat, lon) float32 ...\n",
      "    VV                       (time, lev, lat, lon) float32 ...\n",
      "    V_12_COS                 (time, lev, lat, lon) float32 ...\n",
      "    V_12_SIN                 (time, lev, lat, lon) float32 ...\n",
      "    V_24_COS                 (time, lev, lat, lon) float32 ...\n",
      "    V_24_SIN                 (time, lev, lat, lon) float32 ...\n",
      "    WSUB                     (time, lev, lat, lon) float32 ...\n",
      "    WTHzm                    (time, ilev, lat, zlon) float32 ...\n",
      "    Z3                       (time, lev, lat, lon) float32 ...\n",
      "    dry_deposition_NHx_as_N  (time, lat, lon) float32 ...\n",
      "    dry_deposition_NOy_as_N  (time, lat, lon) float32 ...\n",
      "    jh2o_a                   (time, lev, lat, lon) float32 ...\n",
      "    jh2o_b                   (time, lev, lat, lon) float32 ...\n",
      "    jh2o_c                   (time, lev, lat, lon) float32 ...\n",
      "    r_O1D_H2O                (time, lev, lat, lon) float32 ...\n",
      "    wet_deposition_NHx_as_N  (time, lat, lon) float32 ...\n",
      "    wet_deposition_NOy_as_N  (time, lat, lon) float32 ...\n",
      "Attributes:\n",
      "    Conventions:       CF-1.0\n",
      "    source:            CAM\n",
      "    case:              b.e21.BWma1850.f19_g17.baseline\n",
      "    logname:           pygjc\n",
      "    host:              d11s0b2.arc4.lee\n",
      "    initial_file:      /nobackup/phydrm/cesm2_inputdata//cesm2_init/b.e20.BWm...\n",
      "    topography_file:   /nobackup/phydrm/cesm2_inputdata//atm/cam/topo/fv_1.9x...\n",
      "    model_doi_url:     https://doi.org/10.5065/D67H1H0V\n",
      "    time_period_freq:  month_1\n",
      "    history:           Mon Sep  5 16:02:14 2022: ncrcat b.e21.BWma1850.f19_g1...\n",
      "    NCO:               netCDF Operators version 4.8.0 (Homepage = http://nco....\n"
     ]
    }
   ],
   "source": [
    "#print dataset\n",
    "print(PI_monthly_mean)"
   ]
  },
  {
   "cell_type": "code",
   "execution_count": 22,
   "metadata": {},
   "outputs": [
    {
     "name": "stdout",
     "output_type": "stream",
     "text": [
      "<xarray.DataArray 'O3' (time: 1, lev: 70, lat: 96, lon: 144)>\n",
      "[967680 values with dtype=float32]\n",
      "Coordinates:\n",
      "  * lat      (lat) float64 -90.0 -88.11 -86.21 -84.32 ... 84.32 86.21 88.11 90.0\n",
      "  * lon      (lon) float64 0.0 2.5 5.0 7.5 10.0 ... 350.0 352.5 355.0 357.5\n",
      "  * lev      (lev) float64 5.96e-06 9.827e-06 1.62e-05 ... 957.5 976.3 992.6\n",
      "  * time     (time) float64 5.489e+03\n",
      "Attributes:\n",
      "    mdims:         1\n",
      "    units:         mol/mol\n",
      "    mixing_ratio:  dry\n",
      "    long_name:     O3 concentration\n",
      "    cell_methods:  time: mean\n",
      "\n",
      "\n",
      "\n",
      "<xarray.DataArray 'O3' (time: 12, lev: 70, lat: 96, lon: 144)>\n",
      "[11612160 values with dtype=float32]\n",
      "Coordinates:\n",
      "  * lat      (lat) float64 -90.0 -88.11 -86.21 -84.32 ... 84.32 86.21 88.11 90.0\n",
      "  * lon      (lon) float64 0.0 2.5 5.0 7.5 10.0 ... 350.0 352.5 355.0 357.5\n",
      "  * lev      (lev) float64 5.96e-06 9.827e-06 1.62e-05 ... 957.5 976.3 992.6\n",
      "  * time     (time) float64 4.776e+03 4.804e+03 4.835e+03 ... 5.079e+03 5.11e+03\n",
      "Attributes:\n",
      "    mdims:         1\n",
      "    units:         mol/mol\n",
      "    mixing_ratio:  dry\n",
      "    long_name:     O3 concentration\n",
      "    cell_methods:  time: mean\n"
     ]
    }
   ],
   "source": [
    "print(PI_time_avg.O3)\n",
    "#note that print(PI_time_avg['O3']) does the same thing\n",
    "print('\\n\\n')\n",
    "print(PI_monthly_mean.O3)"
   ]
  },
  {
   "cell_type": "code",
   "execution_count": 28,
   "metadata": {},
   "outputs": [
    {
     "name": "stdout",
     "output_type": "stream",
     "text": [
      "<xarray.DataArray 'lev' (lev: 70)>\n",
      "array([5.960300e-06, 9.826900e-06, 1.620185e-05, 2.671225e-05, 4.404100e-05,\n",
      "       7.261275e-05, 1.197190e-04, 1.973800e-04, 3.254225e-04, 5.365325e-04,\n",
      "       8.846025e-04, 1.458457e-03, 2.404575e-03, 3.978250e-03, 6.556826e-03,\n",
      "       1.081383e-02, 1.789800e-02, 2.955775e-02, 4.873075e-02, 7.991075e-02,\n",
      "       1.282732e-01, 1.981200e-01, 2.920250e-01, 4.101675e-01, 5.534700e-01,\n",
      "       7.304800e-01, 9.559475e-01, 1.244795e+00, 1.612850e+00, 2.079325e+00,\n",
      "       2.667425e+00, 3.404875e+00, 4.324575e+00, 5.465400e+00, 6.872850e+00,\n",
      "       8.599725e+00, 1.070705e+01, 1.326475e+01, 1.635175e+01, 2.005675e+01,\n",
      "       2.447900e+01, 2.972800e+01, 3.592325e+01, 4.319375e+01, 5.167750e+01,\n",
      "       6.152050e+01, 7.375096e+01, 8.782123e+01, 1.033171e+02, 1.215472e+02,\n",
      "       1.429940e+02, 1.682251e+02, 1.979081e+02, 2.328286e+02, 2.739108e+02,\n",
      "       3.222419e+02, 3.791009e+02, 4.459926e+02, 5.246872e+02, 6.097787e+02,\n",
      "       6.913894e+02, 7.634045e+02, 8.208584e+02, 8.595348e+02, 8.870202e+02,\n",
      "       9.126445e+02, 9.361984e+02, 9.574855e+02, 9.763254e+02, 9.925561e+02])\n",
      "Coordinates:\n",
      "  * lev      (lev) float64 5.96e-06 9.827e-06 1.62e-05 ... 957.5 976.3 992.6\n",
      "Attributes:\n",
      "    long_name:      hybrid level at midpoints (1000*(A+B))\n",
      "    units:          hPa\n",
      "    positive:       down\n",
      "    standard_name:  atmosphere_hybrid_sigma_pressure_coordinate\n",
      "    formula_terms:  a: hyam b: hybm p0: P0 ps: PS\n"
     ]
    }
   ],
   "source": [
    "#print hybrid level at midpoints\n",
    "print(PI_time_avg.lev)"
   ]
  },
  {
   "cell_type": "code",
   "execution_count": 29,
   "metadata": {},
   "outputs": [
    {
     "name": "stdout",
     "output_type": "stream",
     "text": [
      "<xarray.DataArray 'lon' (lon: 144)>\n",
      "array([  0. ,   2.5,   5. ,   7.5,  10. ,  12.5,  15. ,  17.5,  20. ,  22.5,\n",
      "        25. ,  27.5,  30. ,  32.5,  35. ,  37.5,  40. ,  42.5,  45. ,  47.5,\n",
      "        50. ,  52.5,  55. ,  57.5,  60. ,  62.5,  65. ,  67.5,  70. ,  72.5,\n",
      "        75. ,  77.5,  80. ,  82.5,  85. ,  87.5,  90. ,  92.5,  95. ,  97.5,\n",
      "       100. , 102.5, 105. , 107.5, 110. , 112.5, 115. , 117.5, 120. , 122.5,\n",
      "       125. , 127.5, 130. , 132.5, 135. , 137.5, 140. , 142.5, 145. , 147.5,\n",
      "       150. , 152.5, 155. , 157.5, 160. , 162.5, 165. , 167.5, 170. , 172.5,\n",
      "       175. , 177.5, 180. , 182.5, 185. , 187.5, 190. , 192.5, 195. , 197.5,\n",
      "       200. , 202.5, 205. , 207.5, 210. , 212.5, 215. , 217.5, 220. , 222.5,\n",
      "       225. , 227.5, 230. , 232.5, 235. , 237.5, 240. , 242.5, 245. , 247.5,\n",
      "       250. , 252.5, 255. , 257.5, 260. , 262.5, 265. , 267.5, 270. , 272.5,\n",
      "       275. , 277.5, 280. , 282.5, 285. , 287.5, 290. , 292.5, 295. , 297.5,\n",
      "       300. , 302.5, 305. , 307.5, 310. , 312.5, 315. , 317.5, 320. , 322.5,\n",
      "       325. , 327.5, 330. , 332.5, 335. , 337.5, 340. , 342.5, 345. , 347.5,\n",
      "       350. , 352.5, 355. , 357.5])\n",
      "Coordinates:\n",
      "  * lon      (lon) float64 0.0 2.5 5.0 7.5 10.0 ... 350.0 352.5 355.0 357.5\n",
      "Attributes:\n",
      "    long_name:  longitude\n",
      "    units:      degrees_east\n"
     ]
    }
   ],
   "source": [
    "#print longitude\n",
    "print(PI_time_avg.lon)"
   ]
  },
  {
   "cell_type": "code",
   "execution_count": null,
   "metadata": {},
   "outputs": [],
   "source": [
    "#print latitude\n",
    "print(PI_time_avg.lat)"
   ]
  },
  {
   "cell_type": "code",
   "execution_count": 32,
   "metadata": {},
   "outputs": [
    {
     "name": "stdout",
     "output_type": "stream",
     "text": [
      "<xarray.DataArray 'time' (time: 12)>\n",
      "array([13.08493151, 13.16164384, 13.24657534, 13.32876712, 13.41369863,\n",
      "       13.49589041, 13.58082192, 13.66575342, 13.74794521, 13.83287671,\n",
      "       13.91506849, 14.        ])\n",
      "Coordinates:\n",
      "  * time     (time) float64 4.776e+03 4.804e+03 4.835e+03 ... 5.079e+03 5.11e+03\n"
     ]
    }
   ],
   "source": [
    "#print time in years\n",
    "print(PI_monthly_mean.time/365)"
   ]
  },
  {
   "cell_type": "code",
   "execution_count": 34,
   "metadata": {},
   "outputs": [
    {
     "name": "stdout",
     "output_type": "stream",
     "text": [
      "<xarray.DataArray 'H2O' (time: 12, lat: 96)>\n",
      "array([[0.00062 , 0.000707, 0.000777, ..., 0.001048, 0.000939, 0.000872],\n",
      "       [0.000423, 0.000481, 0.000577, ..., 0.000618, 0.000648, 0.000752],\n",
      "       [0.000476, 0.000428, 0.000442, ..., 0.000818, 0.000803, 0.000807],\n",
      "       ...,\n",
      "       [0.000411, 0.000349, 0.000357, ..., 0.002168, 0.002201, 0.002152],\n",
      "       [0.000478, 0.000493, 0.000501, ..., 0.002039, 0.001993, 0.001946],\n",
      "       [0.000684, 0.000765, 0.000866, ..., 0.001068, 0.001043, 0.000977]],\n",
      "      dtype=float32)\n",
      "Coordinates:\n",
      "  * lat      (lat) float64 -90.0 -88.11 -86.21 -84.32 ... 84.32 86.21 88.11 90.0\n",
      "    lon      float64 0.0\n",
      "    lev      float64 912.6\n",
      "  * time     (time) float64 4.776e+03 4.804e+03 4.835e+03 ... 5.079e+03 5.11e+03\n",
      "Attributes:\n",
      "    mdims:         1\n",
      "    units:         mol/mol\n",
      "    long_name:     water vapor concentration\n",
      "    cell_methods:  time: mean\n"
     ]
    }
   ],
   "source": [
    "#select specific variable and specific level and longitude\n",
    "data = PI_monthly_mean.H2O.isel(lev = 65, lon = 0)\n",
    "print(data)"
   ]
  },
  {
   "cell_type": "code",
   "execution_count": 37,
   "metadata": {},
   "outputs": [
    {
     "name": "stdout",
     "output_type": "stream",
     "text": [
      "<xarray.DataArray 'T' (lev: 70, lat: 96)>\n",
      "array([[620.304  , 620.3438 , 620.9477 , ..., 637.3108 , 637.51044,\n",
      "        637.8393 ],\n",
      "       [563.0999 , 562.7374 , 562.27106, ..., 569.10114, 569.02814,\n",
      "        569.5897 ],\n",
      "       [490.06635, 489.96277, 490.016  , ..., 497.5436 , 497.93005,\n",
      "        498.6178 ],\n",
      "       ...,\n",
      "       [237.94295, 238.6586 , 240.34114, ..., 258.6599 , 258.58527,\n",
      "        258.51862],\n",
      "       [233.49687, 233.84529, 236.01373, ..., 257.79004, 257.6589 ,\n",
      "        257.58972],\n",
      "       [226.85251, 228.04317, 231.09969, ..., 256.73343, 256.4885 ,\n",
      "        256.32745]], dtype=float32)\n",
      "Coordinates:\n",
      "  * lat      (lat) float64 -90.0 -88.11 -86.21 -84.32 ... 84.32 86.21 88.11 90.0\n",
      "  * lev      (lev) float64 5.96e-06 9.827e-06 1.62e-05 ... 957.5 976.3 992.6\n"
     ]
    }
   ],
   "source": [
    "# take longitude and time mean\n",
    "data = PI_monthly_mean.T.mean(dim = ['time','lon'])\n",
    "print(data)"
   ]
  },
  {
   "cell_type": "code",
   "execution_count": 46,
   "metadata": {},
   "outputs": [
    {
     "name": "stdout",
     "output_type": "stream",
     "text": [
      "Maximum ozone number density is 8.448888708147619e+18 molecules/m^3\n",
      "Minimum ozone number density is 14757.489363223445 molecules/m^3\n"
     ]
    }
   ],
   "source": [
    "#compute ozone number density\n",
    "O3 = PI_monthly_mean.O3\n",
    "T = PI_monthly_mean.T\n",
    "k = 1.381e-23\n",
    "n = O3 * 100 * PI_monthly_mean.lev / ( k * T )\n",
    "print('Maximum ozone number density is '+ str(n.max().values) + ' molecules/m^3')\n",
    "print('Minimum ozone number density is '+ str(n.min().values) + ' molecules/m^3')"
   ]
  }
 ],
 "metadata": {
  "kernelspec": {
   "display_name": "Python 3",
   "language": "python",
   "name": "python3"
  },
  "language_info": {
   "codemirror_mode": {
    "name": "ipython",
    "version": 3
   },
   "file_extension": ".py",
   "mimetype": "text/x-python",
   "name": "python",
   "nbconvert_exporter": "python",
   "pygments_lexer": "ipython3",
   "version": "3.7.7"
  }
 },
 "nbformat": 4,
 "nbformat_minor": 4
}
