{
 "cells": [
  {
   "cell_type": "code",
   "execution_count": 1,
   "metadata": {},
   "outputs": [
    {
     "data": {
      "text/plain": [
       "'\\n- Print statements\\n- Strings\\n- Variables\\n- Operators\\n- lists\\n- dictionaries\\n- if statement\\n- for loops\\n- while loops\\n- arrays\\n- functions\\n- classes\\n'"
      ]
     },
     "execution_count": 1,
     "metadata": {},
     "output_type": "execute_result"
    }
   ],
   "source": [
    "'''\n",
    "- Print statements\n",
    "- Strings\n",
    "- Variables\n",
    "- Operators\n",
    "- lists\n",
    "- dictionaries\n",
    "- if statement\n",
    "- for loops\n",
    "- while loops\n",
    "- arrays\n",
    "- functions\n",
    "- classes\n",
    "'''"
   ]
  },
  {
   "cell_type": "code",
   "execution_count": 2,
   "metadata": {},
   "outputs": [
    {
     "name": "stdout",
     "output_type": "stream",
     "text": [
      "Hello world!\n"
     ]
    }
   ],
   "source": [
    "#print statement\n",
    "print('Hello world!')"
   ]
  },
  {
   "cell_type": "code",
   "execution_count": 3,
   "metadata": {},
   "outputs": [
    {
     "name": "stdout",
     "output_type": "stream",
     "text": [
      "HELLO world!\n",
      "\n",
      "\n",
      "\n",
      "\n",
      "a = 15\n"
     ]
    }
   ],
   "source": [
    "# can use '' or \"\" for strings\n",
    "print(\"HELLO world!\")\n",
    "print('\\n\\n\\n') # \\n is a linebreak command\n",
    "a = 15\n",
    "#combining strings and numbers in a print statement\n",
    "print('a = ' + str(a))"
   ]
  },
  {
   "cell_type": "code",
   "execution_count": 4,
   "metadata": {},
   "outputs": [
    {
     "name": "stdout",
     "output_type": "stream",
     "text": [
      "1.6\n"
     ]
    }
   ],
   "source": [
    "#operators\n",
    "x = 2\n",
    "y = 4; z = 5 # the semicolon can be used to seperate statements on a line\n",
    "# * is multiply and / is divide\n",
    "print( x * y / z) "
   ]
  },
  {
   "cell_type": "code",
   "execution_count": 5,
   "metadata": {},
   "outputs": [
    {
     "name": "stdout",
     "output_type": "stream",
     "text": [
      "['German Shepard', 'Great Dane', 'American Staffordshire Terrier', 'Boxer', 'Pug', 'Tang Dog', 'Swedish Elkhound']\n",
      "\n",
      "\n",
      "German Shepard\n",
      "\n",
      "\n",
      "['American Staffordshire Terrier', 'Boxer', 'German Shepard', 'Great Dane', 'Pug', 'Swedish Elkhound', 'Tang Dog']\n",
      "\n",
      "\n"
     ]
    }
   ],
   "source": [
    "#lists\n",
    "\n",
    "#create list\n",
    "dogs = ['German Shepard', 'Great Dane', 'American Staffordshire Terrier', 'Boxer',\n",
    "        'Pug', 'Tang Dog', 'Swedish Elkhound']\n",
    "#print list\n",
    "print(dogs); print('\\n')\n",
    "\n",
    "#print first item in list\n",
    "print(dogs[0]); print('\\n')\n",
    "\n",
    "#order list alphabetically\n",
    "print(sorted(dogs)); print('\\n')"
   ]
  },
  {
   "cell_type": "code",
   "execution_count": 6,
   "metadata": {},
   "outputs": [
    {
     "name": "stdout",
     "output_type": "stream",
     "text": [
      "{'brand': 'Ford', 'model': 'Mustang', 'colour': 'white', 'year': 2020, 'length': 4.8}\n",
      "\n",
      "\n",
      "Ford is the make of the car.\n",
      "It is white.\n"
     ]
    }
   ],
   "source": [
    "#dictionaries\n",
    "\n",
    "# create dictionary\n",
    "car_dict = {\"brand\": \"Ford\",\n",
    "            \"model\": \"Mustang\",\n",
    "            \"colour\": \"white\",\n",
    "            \"year\": 2020,\n",
    "            \"length\": 4.8\n",
    "}\n",
    "\n",
    "# print dictionary\n",
    "print(car_dict); print('\\n')\n",
    "\n",
    "# print specific items\n",
    "print(car_dict[\"brand\"] + ' is the make of the car.')\n",
    "print('It is ' + car_dict[\"colour\"] + '.')"
   ]
  },
  {
   "cell_type": "code",
   "execution_count": 7,
   "metadata": {},
   "outputs": [
    {
     "name": "stdout",
     "output_type": "stream",
     "text": [
      "a = 33\n",
      "b = 200\n",
      "b is greater than a\n"
     ]
    }
   ],
   "source": [
    "# if and else statement\n",
    "\n",
    "a = 33\n",
    "b = 200\n",
    "\n",
    "print('a = ' + str(a))\n",
    "print('b = ' + str(b))\n",
    "\n",
    "#if/else statement\n",
    "if b > a:\n",
    "    print(\"b is greater than a\")\n",
    "else: \n",
    "    print(\"b is not greater than a\")"
   ]
  },
  {
   "cell_type": "code",
   "execution_count": 21,
   "metadata": {},
   "outputs": [
    {
     "name": "stdout",
     "output_type": "stream",
     "text": [
      "My number 1 favourite dog is: German Shepard\n",
      "My number 2 favourite dog is: Great Dane\n",
      "My number 3 favourite dog is: American Staffordshire Terrier\n",
      "My number 4 favourite dog is: Boxer\n",
      "My number 5 favourite dog is: Pug\n",
      "My number 6 favourite dog is: Tang Dog\n",
      "My number 7 favourite dog is: Swedish Elkhound\n"
     ]
    }
   ],
   "source": [
    "#for loops\n",
    "\n",
    "#get length of list and create a for loop that runs over that length\n",
    "for i in range (len(dogs)):\n",
    "    #print dog types\n",
    "    print('My number ' + str(i+1) + ' favourite dog is: ' + dogs[i])"
   ]
  },
  {
   "cell_type": "code",
   "execution_count": 22,
   "metadata": {},
   "outputs": [
    {
     "name": "stdout",
     "output_type": "stream",
     "text": [
      "4\n",
      "6\n",
      "10\n",
      "18\n",
      "34\n",
      "66\n",
      "130\n",
      "258\n"
     ]
    }
   ],
   "source": [
    "#while loops\n",
    "counter = 3\n",
    "while (counter < 131):\n",
    "    counter = 2 * ( counter - 1)\n",
    "    print(counter)\n",
    "    #first number greater than 131 will be printed\n",
    "    #but then the while loop ends"
   ]
  },
  {
   "cell_type": "code",
   "execution_count": 23,
   "metadata": {},
   "outputs": [
    {
     "name": "stdout",
     "output_type": "stream",
     "text": [
      "[2, 67, 71, 3, 5, 7, 11, 31, 37, 41, 43, 47, 53, 59, 61, 89, 13, 19, 23, 97]\n",
      "\n",
      "\n",
      "2\n",
      "3\n",
      "5\n",
      "7\n",
      "11\n",
      "13\n",
      "19\n",
      "23\n",
      "31\n",
      "37\n",
      "41\n",
      "43\n",
      "47\n",
      "53\n",
      "59\n",
      "61\n",
      "67\n",
      "71\n",
      "89\n",
      "97\n"
     ]
    }
   ],
   "source": [
    "#arrays\n",
    "#list of prime numbers - note it is not in order\n",
    "prime_numbers = [ 2, 67, 71, 3, 5, 7, 11, 31, 37, 41,\n",
    "                 43, 47, 53, 59, 61, 89, 13, 19, 23, 97]\n",
    "#print out the list\n",
    "print(prime_numbers); print('\\n')\n",
    "\n",
    "#import library\n",
    "import numpy as np\n",
    "\n",
    "#put list in array and sort according to value\n",
    "array = np.sort( np.array(prime_numbers) )\n",
    "\n",
    "#print out array using a for loop\n",
    "for i in range(len(array)):\n",
    "    print(array[i])"
   ]
  },
  {
   "cell_type": "code",
   "execution_count": 24,
   "metadata": {},
   "outputs": [
    {
     "name": "stdout",
     "output_type": "stream",
     "text": [
      "The square root of 25 is 5\n",
      "The cubed root of 27 is 3\n",
      "The 4th root of 64 is 2\n"
     ]
    }
   ],
   "source": [
    "#functions - good for efficient coding\n",
    "'''\n",
    "define function name(variables, ...):\n",
    "    ...\n",
    "    write code for the function...\n",
    "    ...\n",
    "    \n",
    "    return output\n",
    "'''\n",
    "    \n",
    "def root(number, power):\n",
    "    value = number**(1/power)\n",
    "    return value\n",
    "\n",
    "#print output using the definition within the print statement\n",
    "print('The square root of 25 is ' + str(int(root(number = 25, power = 2))))\n",
    "print('The cubed root of 27 is ' + str(int(root(number = 27, power = 3))))\n",
    "print('The 4th root of 64 is ' + str(int(root(number = 64, power = 4))))"
   ]
  },
  {
   "cell_type": "code",
   "execution_count": 25,
   "metadata": {},
   "outputs": [
    {
     "name": "stdout",
     "output_type": "stream",
     "text": [
      "5\n",
      "1000\n"
     ]
    }
   ],
   "source": [
    "# Simple class\n",
    "\n",
    "#define class\n",
    "class Variables:\n",
    "    a = 5\n",
    "    b = 1000\n",
    "\n",
    "#instantiate class\n",
    "numbers = Variables()\n",
    "print(numbers.a) #print the class objects\n",
    "print(numbers.b) #print the class objects"
   ]
  },
  {
   "cell_type": "code",
   "execution_count": 26,
   "metadata": {},
   "outputs": [
    {
     "name": "stdout",
     "output_type": "stream",
     "text": [
      "Hello my name is Albert\n",
      "I am 40 years old\n"
     ]
    }
   ],
   "source": [
    "# More complex class\n",
    "\n",
    "#define class\n",
    "class Person:\n",
    "  def __init__(self, name, age):\n",
    "    self.name = name\n",
    "    self.age = age\n",
    "\n",
    "  def myfunc(self):\n",
    "    print(\"Hello my name is \" + self.name)\n",
    "    print(\"I am \" + str(self.age) + ' years old')\n",
    "    \n",
    "Name = 'Albert'\n",
    "Age = 40\n",
    "\n",
    "person = Person(Name, Age)\n",
    "person.myfunc()"
   ]
  }
 ],
 "metadata": {
  "kernelspec": {
   "display_name": "Python 3",
   "language": "python",
   "name": "python3"
  },
  "language_info": {
   "codemirror_mode": {
    "name": "ipython",
    "version": 3
   },
   "file_extension": ".py",
   "mimetype": "text/x-python",
   "name": "python",
   "nbconvert_exporter": "python",
   "pygments_lexer": "ipython3",
   "version": "3.7.7"
  }
 },
 "nbformat": 4,
 "nbformat_minor": 4
}
